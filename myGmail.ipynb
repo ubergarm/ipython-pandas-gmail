{
 "metadata": {
  "name": ""
 },
 "nbformat": 3,
 "nbformat_minor": 0,
 "worksheets": [
  {
   "cells": [
    {
     "cell_type": "code",
     "collapsed": false,
     "input": [
      "import pandas as pd\n",
      "import numpy as np\n",
      "%pylab inline"
     ],
     "language": "python",
     "metadata": {},
     "outputs": []
    },
    {
     "cell_type": "code",
     "collapsed": false,
     "input": [
      "# connect to mongoDB and pull down a collection\n",
      "import pymongo\n",
      "client = pymongo.MongoClient('localhost',27017)\n",
      "db = client.gmail\n",
      "emails = db.email\n",
      "\n",
      "# get a DataFrame from the documents\n",
      "df = pd.DataFrame(list(emails.find()))\n",
      "\n",
      "# clean out _id column\n",
      "df = df.drop('_id',axis=1)\n",
      "\n",
      "# tell us something about what we have so far\n",
      "df.describe()"
     ],
     "language": "python",
     "metadata": {},
     "outputs": []
    },
    {
     "cell_type": "code",
     "collapsed": false,
     "input": [
      "# convert date column into a TimeSeries column\n",
      "# this took a little more than the usual pd.to_datetime() \n",
      "# probably because the format wasn't standard/consistent ??? \n",
      "df.date = df.date.convert_objects(convert_dates='coerce')\n",
      "\n",
      "# drop any NaT (not a time) rows that failed to convert\n",
      "df = df[df.date != pd.NaT]"
     ],
     "language": "python",
     "metadata": {},
     "outputs": []
    },
    {
     "cell_type": "code",
     "collapsed": false,
     "input": [
      "# how many e-mails did I get/send per week?\n",
      "df.groupby(df.date).count().email.resample('W', how='sum').plot(figsize=(10,3))\n"
     ],
     "language": "python",
     "metadata": {},
     "outputs": []
    },
    {
     "cell_type": "code",
     "collapsed": false,
     "input": [
      "# get a fairly fine grained hourly sampling rate from which to play with\n",
      "hourly = df.groupby(df.date).count().email.resample('H', how='sum')"
     ],
     "language": "python",
     "metadata": {},
     "outputs": []
    },
    {
     "cell_type": "code",
     "collapsed": false,
     "input": [
      "# which day of the week did I get/send the most/least e-mails?\n",
      "# I believe default anchor is 0 = monday, so 5/6 would be sat/sun \n",
      "day = hourly.index.weekday\n",
      "daily_volume = hourly.groupby(day).sum()\n",
      "daily_volume.plot(kind='bar')"
     ],
     "language": "python",
     "metadata": {},
     "outputs": []
    },
    {
     "cell_type": "code",
     "collapsed": false,
     "input": [
      "# which hour of the day did I get/send the most e-mails?\n",
      "hour = hourly.index.hour\n",
      "hourly_volume = hourly.groupby(hour).sum()\n",
      "hourly_volume.plot(kind='bar')"
     ],
     "language": "python",
     "metadata": {},
     "outputs": []
    },
    {
     "cell_type": "code",
     "collapsed": false,
     "input": [
      "# now let's see who is generating the most e-mails\n",
      "# this could be cleaned up more by ignoring the name and only using the user@host fields\n",
      "emails = df.groupby(df.email).email.count()\n",
      "emails.order(ascending=True).tail(10).plot(kind='barh')"
     ],
     "language": "python",
     "metadata": {},
     "outputs": []
    },
    {
     "cell_type": "code",
     "collapsed": false,
     "input": [
      "print 'FIN'"
     ],
     "language": "python",
     "metadata": {},
     "outputs": []
    }
   ],
   "metadata": {}
  }
 ]
}